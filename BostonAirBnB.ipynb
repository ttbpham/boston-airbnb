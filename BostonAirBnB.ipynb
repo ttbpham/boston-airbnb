{
 "cells": [
  {
   "cell_type": "markdown",
   "metadata": {},
   "source": [
    "# BOSTON AIRBNB ANALYTICS\n"
   ]
  },
  {
   "cell_type": "markdown",
   "metadata": {},
   "source": [
    " ----- IMPORT LIBRARIES AND LOAD THE INPUT FILES ------"
   ]
  },
  {
   "cell_type": "code",
   "execution_count": 1,
   "metadata": {},
   "outputs": [],
   "source": [
    "import pandas as pd\n",
    "import numpy as np\n",
    "\n",
    "import seaborn as sns\n",
    "import matplotlib.pyplot as plt\n",
    "from sklearn.model_selection import train_test_split\n",
    "from sklearn.neighbors import KNeighborsRegressor\n",
    "from sklearn.ensemble import RandomForestRegressor\n",
    "from sklearn.metrics import r2_score\n",
    "from sklearn import linear_model\n",
    "from sklearn.model_selection import cross_val_predict\n",
    "from scipy.stats import pearsonr\n",
    "\n",
    "\n",
    "calendar = pd.read_csv('./calendar.csv')\n",
    "listings = pd.read_csv('./listings.csv')"
   ]
  },
  {
   "cell_type": "markdown",
   "metadata": {},
   "source": [
    "\n",
    "----- DATA EXPLORATION -----\n",
    "-----------------------------------\n",
    "\n"
   ]
  },
  {
   "cell_type": "code",
   "execution_count": 2,
   "metadata": {},
   "outputs": [
    {
     "name": "stdout",
     "output_type": "stream",
     "text": [
      "<class 'pandas.core.frame.DataFrame'>\n",
      "RangeIndex: 1308890 entries, 0 to 1308889\n",
      "Data columns (total 4 columns):\n",
      " #   Column      Non-Null Count    Dtype \n",
      "---  ------      --------------    ----- \n",
      " 0   listing_id  1308890 non-null  int64 \n",
      " 1   date        1308890 non-null  object\n",
      " 2   available   1308890 non-null  object\n",
      " 3   price       643037 non-null   object\n",
      "dtypes: int64(1), object(3)\n",
      "memory usage: 39.9+ MB\n",
      "None \n",
      "\n",
      "Min date is 2016-09-06\n",
      "Max date is 2017-09-05 \n",
      "\n",
      "listing_id     0.000000\n",
      "date           0.000000\n",
      "available      0.000000\n",
      "price         50.871578\n",
      "dtype: float64 \n",
      "\n",
      "Occupancy Rate: 50.87157820748879 \n",
      "\n"
     ]
    },
    {
     "data": {
      "text/plain": [
       "\" Observation:\\n   1)  calendar dataset has 4 columns and 1,308,890 rows \\n   2)  contains 1 year data from 06-09-2016 to 05-09-2017\\n   3)  1 numeric variable and 3 categorical variables\\n   4)  'price' is not numeric datatype as it contains $ sign\\n   5)  'price' contains 50.87% NaN values\\n   6)  there is no 'price' where available = 'f' (properties were booked)\\n   7)  the price is listed where properties were available\\n   8)  occupancy rate is 50.87%\\n  \""
      ]
     },
     "execution_count": 2,
     "metadata": {},
     "output_type": "execute_result"
    }
   ],
   "source": [
    "\n",
    "# display calendar dataset information\n",
    "\n",
    "print(calendar.info(), '\\n')\n",
    "\n",
    "# display min/max date\n",
    "\n",
    "print('Min date is',calendar['date'].min())\n",
    "print('Max date is',calendar['date'].max(),'\\n')\n",
    "\n",
    "# check % of missing values in each column\n",
    "\n",
    "print (calendar.isnull().sum()/calendar.shape[0]*100, '\\n')\n",
    "\n",
    "# check occupancy rate \n",
    "print('Occupancy Rate:',len(calendar[calendar['available']=='f'])/calendar.shape[0]*100, '\\n')\n",
    "\n",
    "# list the first 10 rows\n",
    "\n",
    "calendar.head(10)\n",
    "\n",
    "# OBSERVATION:\n",
    "#   1)  calendar dataset has 4 columns and 1,308,890 rows \n",
    "#   2)  contains 1 year data from 06-09-2016 to 05-09-2017\n",
    "#   3)  1 numeric variable and 3 categorical variables\n",
    "#   4)  'price' is not numeric datatype as it contains $ sign\n",
    "#   5)  'price' contains 50.87% NaN values\n",
    "#   6)  there is no 'price' where available = 'f' (properties were booked)\n",
    "#   7)  the price is listed where properties were available\n",
    "#   8)  occupancy rate is 50.87%\n"
   ]
  },
  {
   "cell_type": "code",
   "execution_count": 3,
   "metadata": {},
   "outputs": [
    {
     "name": "stdout",
     "output_type": "stream",
     "text": [
      "<class 'pandas.core.frame.DataFrame'>\n",
      "RangeIndex: 3585 entries, 0 to 3584\n",
      "Data columns (total 95 columns):\n",
      " #   Column                            Non-Null Count  Dtype  \n",
      "---  ------                            --------------  -----  \n",
      " 0   id                                3585 non-null   int64  \n",
      " 1   listing_url                       3585 non-null   object \n",
      " 2   scrape_id                         3585 non-null   int64  \n",
      " 3   last_scraped                      3585 non-null   object \n",
      " 4   name                              3585 non-null   object \n",
      " 5   summary                           3442 non-null   object \n",
      " 6   space                             2528 non-null   object \n",
      " 7   description                       3585 non-null   object \n",
      " 8   experiences_offered               3585 non-null   object \n",
      " 9   neighborhood_overview             2170 non-null   object \n",
      " 10  notes                             1610 non-null   object \n",
      " 11  transit                           2295 non-null   object \n",
      " 12  access                            2096 non-null   object \n",
      " 13  interaction                       2031 non-null   object \n",
      " 14  house_rules                       2393 non-null   object \n",
      " 15  thumbnail_url                     2986 non-null   object \n",
      " 16  medium_url                        2986 non-null   object \n",
      " 17  picture_url                       3585 non-null   object \n",
      " 18  xl_picture_url                    2986 non-null   object \n",
      " 19  host_id                           3585 non-null   int64  \n",
      " 20  host_url                          3585 non-null   object \n",
      " 21  host_name                         3585 non-null   object \n",
      " 22  host_since                        3585 non-null   object \n",
      " 23  host_location                     3574 non-null   object \n",
      " 24  host_about                        2276 non-null   object \n",
      " 25  host_response_time                3114 non-null   object \n",
      " 26  host_response_rate                3114 non-null   object \n",
      " 27  host_acceptance_rate              3114 non-null   object \n",
      " 28  host_is_superhost                 3585 non-null   object \n",
      " 29  host_thumbnail_url                3585 non-null   object \n",
      " 30  host_picture_url                  3585 non-null   object \n",
      " 31  host_neighbourhood                3246 non-null   object \n",
      " 32  host_listings_count               3585 non-null   int64  \n",
      " 33  host_total_listings_count         3585 non-null   int64  \n",
      " 34  host_verifications                3585 non-null   object \n",
      " 35  host_has_profile_pic              3585 non-null   object \n",
      " 36  host_identity_verified            3585 non-null   object \n",
      " 37  street                            3585 non-null   object \n",
      " 38  neighbourhood                     3042 non-null   object \n",
      " 39  neighbourhood_cleansed            3585 non-null   object \n",
      " 40  neighbourhood_group_cleansed      0 non-null      float64\n",
      " 41  city                              3583 non-null   object \n",
      " 42  state                             3585 non-null   object \n",
      " 43  zipcode                           3547 non-null   object \n",
      " 44  market                            3571 non-null   object \n",
      " 45  smart_location                    3585 non-null   object \n",
      " 46  country_code                      3585 non-null   object \n",
      " 47  country                           3585 non-null   object \n",
      " 48  latitude                          3585 non-null   float64\n",
      " 49  longitude                         3585 non-null   float64\n",
      " 50  is_location_exact                 3585 non-null   object \n",
      " 51  property_type                     3582 non-null   object \n",
      " 52  room_type                         3585 non-null   object \n",
      " 53  accommodates                      3585 non-null   int64  \n",
      " 54  bathrooms                         3571 non-null   float64\n",
      " 55  bedrooms                          3575 non-null   float64\n",
      " 56  beds                              3576 non-null   float64\n",
      " 57  bed_type                          3585 non-null   object \n",
      " 58  amenities                         3585 non-null   object \n",
      " 59  square_feet                       56 non-null     float64\n",
      " 60  price                             3585 non-null   object \n",
      " 61  weekly_price                      892 non-null    object \n",
      " 62  monthly_price                     888 non-null    object \n",
      " 63  security_deposit                  1342 non-null   object \n",
      " 64  cleaning_fee                      2478 non-null   object \n",
      " 65  guests_included                   3585 non-null   int64  \n",
      " 66  extra_people                      3585 non-null   object \n",
      " 67  minimum_nights                    3585 non-null   int64  \n",
      " 68  maximum_nights                    3585 non-null   int64  \n",
      " 69  calendar_updated                  3585 non-null   object \n",
      " 70  has_availability                  0 non-null      float64\n",
      " 71  availability_30                   3585 non-null   int64  \n",
      " 72  availability_60                   3585 non-null   int64  \n",
      " 73  availability_90                   3585 non-null   int64  \n",
      " 74  availability_365                  3585 non-null   int64  \n",
      " 75  calendar_last_scraped             3585 non-null   object \n",
      " 76  number_of_reviews                 3585 non-null   int64  \n",
      " 77  first_review                      2829 non-null   object \n",
      " 78  last_review                       2829 non-null   object \n",
      " 79  review_scores_rating              2772 non-null   float64\n",
      " 80  review_scores_accuracy            2762 non-null   float64\n",
      " 81  review_scores_cleanliness         2767 non-null   float64\n",
      " 82  review_scores_checkin             2765 non-null   float64\n",
      " 83  review_scores_communication       2767 non-null   float64\n",
      " 84  review_scores_location            2763 non-null   float64\n",
      " 85  review_scores_value               2764 non-null   float64\n",
      " 86  requires_license                  3585 non-null   object \n",
      " 87  license                           0 non-null      float64\n",
      " 88  jurisdiction_names                0 non-null      float64\n",
      " 89  instant_bookable                  3585 non-null   object \n",
      " 90  cancellation_policy               3585 non-null   object \n",
      " 91  require_guest_profile_picture     3585 non-null   object \n",
      " 92  require_guest_phone_verification  3585 non-null   object \n",
      " 93  calculated_host_listings_count    3585 non-null   int64  \n",
      " 94  reviews_per_month                 2829 non-null   float64\n",
      "dtypes: float64(18), int64(15), object(62)\n",
      "memory usage: 2.6+ MB\n",
      "None \n",
      "\n",
      "{'notes', 'jurisdiction_names', 'security_deposit', 'weekly_price', 'has_availability', 'license', 'neighbourhood_group_cleansed', 'monthly_price', 'square_feet'} \n",
      "\n",
      "         id                            listing_url       scrape_id  \\\n",
      "0  12147973  https://www.airbnb.com/rooms/12147973  20160906204935   \n",
      "1   3075044   https://www.airbnb.com/rooms/3075044  20160906204935   \n",
      "2      6976      https://www.airbnb.com/rooms/6976  20160906204935   \n",
      "3   1436513   https://www.airbnb.com/rooms/1436513  20160906204935   \n",
      "4   7651065   https://www.airbnb.com/rooms/7651065  20160906204935   \n",
      "\n",
      "  last_scraped                                           name  \\\n",
      "0   2016-09-07                     Sunny Bungalow in the City   \n",
      "1   2016-09-07              Charming room in pet friendly apt   \n",
      "2   2016-09-07               Mexican Folk Art Haven in Boston   \n",
      "3   2016-09-07  Spacious Sunny Bedroom Suite in Historic Home   \n",
      "4   2016-09-07                            Come Home to Boston   \n",
      "\n",
      "                                             summary  \\\n",
      "0  Cozy, sunny, family home.  Master bedroom high...   \n",
      "1  Charming and quiet room in a second floor 1910...   \n",
      "2  Come stay with a friendly, middle-aged guy in ...   \n",
      "3  Come experience the comforts of home away from...   \n",
      "4  My comfy, clean and relaxing home is one block...   \n",
      "\n",
      "                                               space  \\\n",
      "0  The house has an open and cozy feel at the sam...   \n",
      "1  Small but cozy and quite room with a full size...   \n",
      "2  Come stay with a friendly, middle-aged guy in ...   \n",
      "3  Most places you find in Boston are small howev...   \n",
      "4  Clean, attractive, private room, one block fro...   \n",
      "\n",
      "                                         description experiences_offered  \\\n",
      "0  Cozy, sunny, family home.  Master bedroom high...                none   \n",
      "1  Charming and quiet room in a second floor 1910...                none   \n",
      "2  Come stay with a friendly, middle-aged guy in ...                none   \n",
      "3  Come experience the comforts of home away from...                none   \n",
      "4  My comfy, clean and relaxing home is one block...                none   \n",
      "\n",
      "                               neighborhood_overview  ... review_scores_value  \\\n",
      "0  Roslindale is quiet, convenient and friendly. ...  ...                 NaN   \n",
      "1  The room is in Roslindale, a diverse and prima...  ...                 9.0   \n",
      "2  The LOCATION: Roslindale is a safe and diverse...  ...                10.0   \n",
      "3  Roslindale is a lovely little neighborhood loc...  ...                10.0   \n",
      "4  I love the proximity to downtown, the neighbor...  ...                10.0   \n",
      "\n",
      "  requires_license license jurisdiction_names instant_bookable  \\\n",
      "0                f     NaN                NaN                f   \n",
      "1                f     NaN                NaN                t   \n",
      "2                f     NaN                NaN                f   \n",
      "3                f     NaN                NaN                f   \n",
      "4                f     NaN                NaN                f   \n",
      "\n",
      "  cancellation_policy require_guest_profile_picture  \\\n",
      "0            moderate                             f   \n",
      "1            moderate                             f   \n",
      "2            moderate                             t   \n",
      "3            moderate                             f   \n",
      "4            flexible                             f   \n",
      "\n",
      "  require_guest_phone_verification calculated_host_listings_count  \\\n",
      "0                                f                              1   \n",
      "1                                f                              1   \n",
      "2                                f                              1   \n",
      "3                                f                              1   \n",
      "4                                f                              1   \n",
      "\n",
      "   reviews_per_month  \n",
      "0                NaN  \n",
      "1               1.30  \n",
      "2               0.47  \n",
      "3               1.00  \n",
      "4               2.25  \n",
      "\n",
      "[5 rows x 95 columns]\n"
     ]
    },
    {
     "data": {
      "text/plain": [
       "\" Observation:\\n   1)  listings dataset has 95 columns and 3,584 rows \\n   2)  33 numeric variables and 62 categorical variables\\n   3)  'price' is not numeric datatype as it contains $ sign\\n\\n\""
      ]
     },
     "execution_count": 3,
     "metadata": {},
     "output_type": "execute_result"
    }
   ],
   "source": [
    "\n",
    "# display 'listings' dataset information\n",
    "\n",
    "print(listings.info(), '\\n')\n",
    "\n",
    "# list the columns with more than 50% missing values\n",
    "\n",
    "print(set(listings.columns[listings.isnull().mean() > 0.50]),'\\n')\n",
    "\n",
    "# list the first 5 rows\n",
    "\n",
    "print(listings.head(5))\n",
    "\n",
    "# Observation:\n",
    "#   1)  listings dataset has 95 columns and 3,584 rows \n",
    "#   2)  33 numeric variables and 62 categorical variables\n",
    "#   3)  'price' is not numeric datatype as it contains $ sign\n"
   ]
  },
  {
   "cell_type": "markdown",
   "metadata": {},
   "source": [
    "\n",
    "----- DATA PREPARATION AND VISUALISATION -----\n",
    "-----------------------------------\n"
   ]
  },
  {
   "cell_type": "code",
   "execution_count": 4,
   "metadata": {},
   "outputs": [],
   "source": [
    "# convert 'price' to float datatype\n",
    "\n",
    "calendar['price'] = calendar['price'].replace('[\\$,]', '', regex=True).astype(float)\n",
    "listings['price'] = listings['price'].replace('[\\$,]', '', regex=True).astype(float)"
   ]
  },
  {
   "cell_type": "code",
   "execution_count": 5,
   "metadata": {},
   "outputs": [],
   "source": [
    "# merge calendar and listings datasets\n",
    "\n",
    "boston_df =  pd.merge(calendar, listings, left_on='listing_id', right_on='id')"
   ]
  },
  {
   "cell_type": "code",
   "execution_count": 6,
   "metadata": {},
   "outputs": [],
   "source": [
    "# as both calendar and listings datasets have column 'price', when merged the column from calendar is automatically named 'price_x', \n",
    "# the below step will rename 'price_x' to 'price'\n",
    "\n",
    "boston_df= boston_df.rename(columns = {'price_x': 'price'})\n",
    "\n"
   ]
  },
  {
   "cell_type": "code",
   "execution_count": 7,
   "metadata": {},
   "outputs": [],
   "source": [
    "# extract  'week_day' and 'month' from 'date'\n",
    "\n",
    "boston_df['week_day'] = pd.DatetimeIndex(boston_df['date']).dayofweek\n",
    "boston_df['month']= pd.DatetimeIndex(boston_df['date']).month"
   ]
  },
  {
   "cell_type": "code",
   "execution_count": 8,
   "metadata": {},
   "outputs": [],
   "source": [
    "# Split boston_df to 2 datasets 'Available' and 'Unavailable' \n",
    "\n",
    "df_avail = boston_df[boston_df['available'] == 't']\n",
    "df_unavail = boston_df[boston_df['available'] == 'f']"
   ]
  },
  {
   "cell_type": "code",
   "execution_count": 9,
   "metadata": {
    "scrolled": true
   },
   "outputs": [
    {
     "data": {
      "text/plain": [
       "<seaborn.axisgrid.FacetGrid at 0x7fc4376bc4f0>"
      ]
     },
     "execution_count": 9,
     "metadata": {},
     "output_type": "execute_result"
    },
    {
     "data": {
      "image/png": "[encoded data removed]",
      "text/plain": [
       "<Figure size 1188.5x720 with 1 Axes>"
      ]
     },
     "metadata": {},
     "output_type": "display_data"
    }
   ],
   "source": [
    "# create chart showing occupancy by Months and by Property Types\n",
    "\n",
    "sns.set_style(\"ticks\")\n",
    "ax = sns.displot(df_unavail, x=\"month\", hue=\"property_type\", multiple=\"stack\", stat=\"count\",height=10, discrete=True , aspect=1.5 )\n",
    "ax.set(title=\"Occupancy by Months and by Property Types\")"
   ]
  },
  {
   "cell_type": "markdown",
   "metadata": {},
   "source": [
    "###### Chart observation : \n",
    "September has the highest bookings, following is October. Feb has the lowest bookings. Apartment is the most  demanded renting property, following by house and then condominium. Exact number/percentage of bookings by months and by properties can be obtained in following codes:"
   ]
  },
  {
   "cell_type": "code",
   "execution_count": 10,
   "metadata": {},
   "outputs": [],
   "source": [
    "# count of bookings by months and by property_type \n",
    "    \n",
    "df_unavail.groupby(['month', 'property_type']).count()['date']\n",
    "\n",
    "# percentage of bookings (occupancy rate) by months and by property_type \n",
    "\n",
    "booking_df = df_unavail.groupby(['month', 'property_type']).count()['date']/boston_df.groupby(['month', 'property_type']).count()['date']*100\n"
   ]
  },
  {
   "cell_type": "code",
   "execution_count": null,
   "metadata": {},
   "outputs": [],
   "source": []
  },
  {
   "cell_type": "code",
   "execution_count": 11,
   "metadata": {},
   "outputs": [
    {
     "data": {
      "image/png": "[encoded data removed]",
      "text/plain": [
       "<Figure size 1800x1080 with 1 Axes>"
      ]
     },
     "metadata": {},
     "output_type": "display_data"
    }
   ],
   "source": [
    "# Create a chart showing the average price by month and week days\n",
    "\n",
    "f = plt.figure(figsize=(25, 15))\n",
    "gs = f.add_gridspec(2, 2)\n",
    "\n",
    "with sns.axes_style(\"darkgrid\"):\n",
    "    ax = f.add_subplot(gs[0, 0])\n",
    "    ax = sns.lineplot(x=\"month\", y=\"price\", hue = \"week_day\",palette=\"tab10\", linewidth=5,legend = False,\n",
    "       data=df_avail, ci=None  )\n",
    "\n",
    "f.suptitle(\"Average Rental Prices Analysis\",fontsize = 15,weight='bold', x = 0.3, y = 0.98, ha='center')\n",
    "f.legend(bbox_to_anchor=(0.05, 0.95),title='Days of Week', loc='upper left', labels=['Mon', 'Tue','Wed','Thu','Fri','Sat','Sun'])\n",
    "f.tight_layout()\n"
   ]
  },
  {
   "cell_type": "markdown",
   "metadata": {},
   "source": [
    "###### Chart observation : \n",
    "Rental price is lowest in February and March, it gradually increases and reaches the peak in September and October. Except September where price is highest on Thurday, Friday and Saturday are more expensive than the rest of the week."
   ]
  },
  {
   "cell_type": "markdown",
   "metadata": {},
   "source": [
    "----- RENTAL PRICE PREDICTION -----\n",
    "-----------------------------------"
   ]
  },
  {
   "cell_type": "markdown",
   "metadata": {},
   "source": [
    "###### DATA PREPARATION\n",
    "Dataset 'df_avail' will be used in building model as it contains the rental price influenced by seasonal factors (ie. month of the year, day of the week)"
   ]
  },
  {
   "cell_type": "code",
   "execution_count": 12,
   "metadata": {},
   "outputs": [
    {
     "data": {
      "text/plain": [
       "price           1.000000\n",
       "accommodates    0.483006\n",
       "bedrooms        0.432066\n",
       "square_feet     0.565067\n",
       "price_y         0.879527\n",
       "Name: price, dtype: float64"
      ]
     },
     "execution_count": 12,
     "metadata": {},
     "output_type": "execute_result"
    }
   ],
   "source": [
    "# display columns which have correlation with price > 0.4. \n",
    "\n",
    "cor = df_avail.corr()\n",
    "cor_df = abs(cor[\"price\"])\n",
    "cor_df[cor_df>0.4]"
   ]
  },
  {
   "cell_type": "code",
   "execution_count": 13,
   "metadata": {},
   "outputs": [
    {
     "data": {
      "text/html": [
       "<div>\n",
       "<style scoped>\n",
       "    .dataframe tbody tr th:only-of-type {\n",
       "        vertical-align: middle;\n",
       "    }\n",
       "\n",
       "    .dataframe tbody tr th {\n",
       "        vertical-align: top;\n",
       "    }\n",
       "\n",
       "    .dataframe thead th {\n",
       "        text-align: right;\n",
       "    }\n",
       "</style>\n",
       "<table border=\"1\" class=\"dataframe\">\n",
       "  <thead>\n",
       "    <tr style=\"text-align: right;\">\n",
       "      <th></th>\n",
       "      <th>accommodates</th>\n",
       "      <th>bedrooms</th>\n",
       "      <th>square_feet</th>\n",
       "    </tr>\n",
       "  </thead>\n",
       "  <tbody>\n",
       "    <tr>\n",
       "      <th>listing_id</th>\n",
       "      <td>NaN</td>\n",
       "      <td>NaN</td>\n",
       "      <td>NaN</td>\n",
       "    </tr>\n",
       "    <tr>\n",
       "      <th>price</th>\n",
       "      <td>0.483006</td>\n",
       "      <td>0.432066</td>\n",
       "      <td>0.565067</td>\n",
       "    </tr>\n",
       "    <tr>\n",
       "      <th>id</th>\n",
       "      <td>NaN</td>\n",
       "      <td>NaN</td>\n",
       "      <td>NaN</td>\n",
       "    </tr>\n",
       "    <tr>\n",
       "      <th>scrape_id</th>\n",
       "      <td>NaN</td>\n",
       "      <td>NaN</td>\n",
       "      <td>NaN</td>\n",
       "    </tr>\n",
       "    <tr>\n",
       "      <th>host_id</th>\n",
       "      <td>NaN</td>\n",
       "      <td>NaN</td>\n",
       "      <td>NaN</td>\n",
       "    </tr>\n",
       "    <tr>\n",
       "      <th>host_listings_count</th>\n",
       "      <td>NaN</td>\n",
       "      <td>NaN</td>\n",
       "      <td>NaN</td>\n",
       "    </tr>\n",
       "    <tr>\n",
       "      <th>host_total_listings_count</th>\n",
       "      <td>NaN</td>\n",
       "      <td>NaN</td>\n",
       "      <td>NaN</td>\n",
       "    </tr>\n",
       "    <tr>\n",
       "      <th>neighbourhood_group_cleansed</th>\n",
       "      <td>NaN</td>\n",
       "      <td>NaN</td>\n",
       "      <td>NaN</td>\n",
       "    </tr>\n",
       "    <tr>\n",
       "      <th>latitude</th>\n",
       "      <td>NaN</td>\n",
       "      <td>NaN</td>\n",
       "      <td>NaN</td>\n",
       "    </tr>\n",
       "    <tr>\n",
       "      <th>longitude</th>\n",
       "      <td>NaN</td>\n",
       "      <td>NaN</td>\n",
       "      <td>NaN</td>\n",
       "    </tr>\n",
       "    <tr>\n",
       "      <th>accommodates</th>\n",
       "      <td>1.000000</td>\n",
       "      <td>0.729310</td>\n",
       "      <td>0.566827</td>\n",
       "    </tr>\n",
       "    <tr>\n",
       "      <th>bathrooms</th>\n",
       "      <td>NaN</td>\n",
       "      <td>NaN</td>\n",
       "      <td>0.443706</td>\n",
       "    </tr>\n",
       "    <tr>\n",
       "      <th>bedrooms</th>\n",
       "      <td>0.729310</td>\n",
       "      <td>1.000000</td>\n",
       "      <td>0.512789</td>\n",
       "    </tr>\n",
       "    <tr>\n",
       "      <th>beds</th>\n",
       "      <td>0.824647</td>\n",
       "      <td>0.740665</td>\n",
       "      <td>NaN</td>\n",
       "    </tr>\n",
       "    <tr>\n",
       "      <th>square_feet</th>\n",
       "      <td>0.566827</td>\n",
       "      <td>0.512789</td>\n",
       "      <td>1.000000</td>\n",
       "    </tr>\n",
       "    <tr>\n",
       "      <th>price_y</th>\n",
       "      <td>0.460641</td>\n",
       "      <td>0.417788</td>\n",
       "      <td>0.575791</td>\n",
       "    </tr>\n",
       "    <tr>\n",
       "      <th>guests_included</th>\n",
       "      <td>0.518933</td>\n",
       "      <td>0.441628</td>\n",
       "      <td>NaN</td>\n",
       "    </tr>\n",
       "    <tr>\n",
       "      <th>minimum_nights</th>\n",
       "      <td>NaN</td>\n",
       "      <td>NaN</td>\n",
       "      <td>NaN</td>\n",
       "    </tr>\n",
       "    <tr>\n",
       "      <th>maximum_nights</th>\n",
       "      <td>NaN</td>\n",
       "      <td>NaN</td>\n",
       "      <td>NaN</td>\n",
       "    </tr>\n",
       "    <tr>\n",
       "      <th>has_availability</th>\n",
       "      <td>NaN</td>\n",
       "      <td>NaN</td>\n",
       "      <td>NaN</td>\n",
       "    </tr>\n",
       "    <tr>\n",
       "      <th>availability_30</th>\n",
       "      <td>NaN</td>\n",
       "      <td>NaN</td>\n",
       "      <td>NaN</td>\n",
       "    </tr>\n",
       "    <tr>\n",
       "      <th>availability_60</th>\n",
       "      <td>NaN</td>\n",
       "      <td>NaN</td>\n",
       "      <td>NaN</td>\n",
       "    </tr>\n",
       "    <tr>\n",
       "      <th>availability_90</th>\n",
       "      <td>NaN</td>\n",
       "      <td>NaN</td>\n",
       "      <td>NaN</td>\n",
       "    </tr>\n",
       "    <tr>\n",
       "      <th>availability_365</th>\n",
       "      <td>NaN</td>\n",
       "      <td>NaN</td>\n",
       "      <td>NaN</td>\n",
       "    </tr>\n",
       "    <tr>\n",
       "      <th>number_of_reviews</th>\n",
       "      <td>NaN</td>\n",
       "      <td>NaN</td>\n",
       "      <td>NaN</td>\n",
       "    </tr>\n",
       "    <tr>\n",
       "      <th>review_scores_rating</th>\n",
       "      <td>NaN</td>\n",
       "      <td>NaN</td>\n",
       "      <td>NaN</td>\n",
       "    </tr>\n",
       "    <tr>\n",
       "      <th>review_scores_accuracy</th>\n",
       "      <td>NaN</td>\n",
       "      <td>NaN</td>\n",
       "      <td>NaN</td>\n",
       "    </tr>\n",
       "    <tr>\n",
       "      <th>review_scores_cleanliness</th>\n",
       "      <td>NaN</td>\n",
       "      <td>NaN</td>\n",
       "      <td>NaN</td>\n",
       "    </tr>\n",
       "    <tr>\n",
       "      <th>review_scores_checkin</th>\n",
       "      <td>NaN</td>\n",
       "      <td>NaN</td>\n",
       "      <td>NaN</td>\n",
       "    </tr>\n",
       "    <tr>\n",
       "      <th>review_scores_communication</th>\n",
       "      <td>NaN</td>\n",
       "      <td>NaN</td>\n",
       "      <td>NaN</td>\n",
       "    </tr>\n",
       "    <tr>\n",
       "      <th>review_scores_location</th>\n",
       "      <td>NaN</td>\n",
       "      <td>NaN</td>\n",
       "      <td>NaN</td>\n",
       "    </tr>\n",
       "    <tr>\n",
       "      <th>review_scores_value</th>\n",
       "      <td>NaN</td>\n",
       "      <td>NaN</td>\n",
       "      <td>0.488933</td>\n",
       "    </tr>\n",
       "    <tr>\n",
       "      <th>license</th>\n",
       "      <td>NaN</td>\n",
       "      <td>NaN</td>\n",
       "      <td>NaN</td>\n",
       "    </tr>\n",
       "    <tr>\n",
       "      <th>jurisdiction_names</th>\n",
       "      <td>NaN</td>\n",
       "      <td>NaN</td>\n",
       "      <td>NaN</td>\n",
       "    </tr>\n",
       "    <tr>\n",
       "      <th>calculated_host_listings_count</th>\n",
       "      <td>NaN</td>\n",
       "      <td>NaN</td>\n",
       "      <td>NaN</td>\n",
       "    </tr>\n",
       "    <tr>\n",
       "      <th>reviews_per_month</th>\n",
       "      <td>NaN</td>\n",
       "      <td>NaN</td>\n",
       "      <td>NaN</td>\n",
       "    </tr>\n",
       "    <tr>\n",
       "      <th>week_day</th>\n",
       "      <td>NaN</td>\n",
       "      <td>NaN</td>\n",
       "      <td>NaN</td>\n",
       "    </tr>\n",
       "    <tr>\n",
       "      <th>month</th>\n",
       "      <td>NaN</td>\n",
       "      <td>NaN</td>\n",
       "      <td>NaN</td>\n",
       "    </tr>\n",
       "  </tbody>\n",
       "</table>\n",
       "</div>"
      ],
      "text/plain": [
       "                                accommodates  bedrooms  square_feet\n",
       "listing_id                               NaN       NaN          NaN\n",
       "price                               0.483006  0.432066     0.565067\n",
       "id                                       NaN       NaN          NaN\n",
       "scrape_id                                NaN       NaN          NaN\n",
       "host_id                                  NaN       NaN          NaN\n",
       "host_listings_count                      NaN       NaN          NaN\n",
       "host_total_listings_count                NaN       NaN          NaN\n",
       "neighbourhood_group_cleansed             NaN       NaN          NaN\n",
       "latitude                                 NaN       NaN          NaN\n",
       "longitude                                NaN       NaN          NaN\n",
       "accommodates                        1.000000  0.729310     0.566827\n",
       "bathrooms                                NaN       NaN     0.443706\n",
       "bedrooms                            0.729310  1.000000     0.512789\n",
       "beds                                0.824647  0.740665          NaN\n",
       "square_feet                         0.566827  0.512789     1.000000\n",
       "price_y                             0.460641  0.417788     0.575791\n",
       "guests_included                     0.518933  0.441628          NaN\n",
       "minimum_nights                           NaN       NaN          NaN\n",
       "maximum_nights                           NaN       NaN          NaN\n",
       "has_availability                         NaN       NaN          NaN\n",
       "availability_30                          NaN       NaN          NaN\n",
       "availability_60                          NaN       NaN          NaN\n",
       "availability_90                          NaN       NaN          NaN\n",
       "availability_365                         NaN       NaN          NaN\n",
       "number_of_reviews                        NaN       NaN          NaN\n",
       "review_scores_rating                     NaN       NaN          NaN\n",
       "review_scores_accuracy                   NaN       NaN          NaN\n",
       "review_scores_cleanliness                NaN       NaN          NaN\n",
       "review_scores_checkin                    NaN       NaN          NaN\n",
       "review_scores_communication              NaN       NaN          NaN\n",
       "review_scores_location                   NaN       NaN          NaN\n",
       "review_scores_value                      NaN       NaN     0.488933\n",
       "license                                  NaN       NaN          NaN\n",
       "jurisdiction_names                       NaN       NaN          NaN\n",
       "calculated_host_listings_count           NaN       NaN          NaN\n",
       "reviews_per_month                        NaN       NaN          NaN\n",
       "week_day                                 NaN       NaN          NaN\n",
       "month                                    NaN       NaN          NaN"
      ]
     },
     "execution_count": 13,
     "metadata": {},
     "output_type": "execute_result"
    }
   ],
   "source": [
    "# to avoid Multicolinearity issue, we need to check the correlation between 3 numeric independent variables\n",
    "\n",
    "cor_df = abs(cor[[\"accommodates\",\"bedrooms\",\"square_feet\"]])\n",
    "cor_df[cor_df>0.4]\n",
    "\n",
    "# the result show there are strong correlation between those 3, therefore we should include only 1 of them in the model\n",
    "# the column 'accommodates' is selected as it has no missing values"
   ]
  },
  {
   "cell_type": "code",
   "execution_count": 14,
   "metadata": {},
   "outputs": [],
   "source": [
    "# keep the columns being used in building model\n",
    "\n",
    "df_model = df_avail[['price','month','week_day','latitude','longitude','property_type','accommodates','cancellation_policy']]"
   ]
  },
  {
   "cell_type": "code",
   "execution_count": 15,
   "metadata": {},
   "outputs": [
    {
     "name": "stdout",
     "output_type": "stream",
     "text": [
      "<class 'pandas.core.frame.DataFrame'>\n",
      "Int64Index: 643037 entries, 365 to 1308879\n",
      "Data columns (total 8 columns):\n",
      " #   Column               Non-Null Count   Dtype  \n",
      "---  ------               --------------   -----  \n",
      " 0   price                643037 non-null  float64\n",
      " 1   month                643037 non-null  int64  \n",
      " 2   week_day             643037 non-null  int64  \n",
      " 3   latitude             643037 non-null  float64\n",
      " 4   longitude            643037 non-null  float64\n",
      " 5   property_type        642889 non-null  object \n",
      " 6   accommodates         643037 non-null  int64  \n",
      " 7   cancellation_policy  643037 non-null  object \n",
      "dtypes: float64(3), int64(3), object(2)\n",
      "memory usage: 44.2+ MB\n"
     ]
    }
   ],
   "source": [
    "# display dataset information\n",
    "df_model.info()\n",
    "\n",
    "# The result shows there are 6 numeric columns and 3 categorical columns. \n",
    "# The column 'property_type' contains null values (not null count < total records)"
   ]
  },
  {
   "cell_type": "code",
   "execution_count": 16,
   "metadata": {},
   "outputs": [],
   "source": [
    "# remove records with NaN values\n",
    "df_model = df_model.dropna()"
   ]
  },
  {
   "cell_type": "code",
   "execution_count": 17,
   "metadata": {},
   "outputs": [],
   "source": [
    "# create a list of categorical variables\n",
    "cat_list = ['cancellation_policy','property_type']\n",
    "\n",
    "# create a list of explanatory numeric variables\n",
    "num_list = ['latitude','longitude','week_day','month','accommodates']"
   ]
  },
  {
   "cell_type": "code",
   "execution_count": 18,
   "metadata": {
    "scrolled": true
   },
   "outputs": [],
   "source": [
    "# create dummy columns for categorical variables\n",
    "\n",
    "df_dummy = df_model[cat_list]\n",
    "df_dummy =pd.get_dummies(df_dummy, prefix=cat_list)\n",
    "\n"
   ]
  },
  {
   "cell_type": "code",
   "execution_count": 19,
   "metadata": {},
   "outputs": [
    {
     "name": "stdout",
     "output_type": "stream",
     "text": [
      "Rescaled latitude\n",
      "Rescaled longitude\n",
      "Rescaled week_day\n",
      "Rescaled month\n",
      "Rescaled accommodates\n"
     ]
    }
   ],
   "source": [
    "# rescale explanatory numeric variables\n",
    "\n",
    "for feature in num_list:\n",
    "    shift = df_model[feature].mean()\n",
    "    scale = df_model[feature].std()\n",
    "    if scale == 0.:\n",
    "        del df_model[feature]\n",
    "        print ('Feature %s was dropped because it has no variance' % feature)\n",
    "    else:\n",
    "        print ('Rescaled %s' % feature)\n",
    "        df_model[feature] =  (df_model[feature] - shift).astype(np.float64) / scale\n",
    "\n",
    "\n"
   ]
  },
  {
   "cell_type": "code",
   "execution_count": 20,
   "metadata": {},
   "outputs": [
    {
     "data": {
      "text/html": [
       "<div>\n",
       "<style scoped>\n",
       "    .dataframe tbody tr th:only-of-type {\n",
       "        vertical-align: middle;\n",
       "    }\n",
       "\n",
       "    .dataframe tbody tr th {\n",
       "        vertical-align: top;\n",
       "    }\n",
       "\n",
       "    .dataframe thead th {\n",
       "        text-align: right;\n",
       "    }\n",
       "</style>\n",
       "<table border=\"1\" class=\"dataframe\">\n",
       "  <thead>\n",
       "    <tr style=\"text-align: right;\">\n",
       "      <th></th>\n",
       "      <th>price</th>\n",
       "      <th>month</th>\n",
       "      <th>week_day</th>\n",
       "      <th>latitude</th>\n",
       "      <th>longitude</th>\n",
       "      <th>property_type</th>\n",
       "      <th>accommodates</th>\n",
       "      <th>cancellation_policy</th>\n",
       "    </tr>\n",
       "  </thead>\n",
       "  <tbody>\n",
       "    <tr>\n",
       "      <th>365</th>\n",
       "      <td>65.0</td>\n",
       "      <td>0.454493</td>\n",
       "      <td>-0.993463</td>\n",
       "      <td>-1.976301</td>\n",
       "      <td>-1.616504</td>\n",
       "      <td>Apartment</td>\n",
       "      <td>-0.59027</td>\n",
       "      <td>moderate</td>\n",
       "    </tr>\n",
       "    <tr>\n",
       "      <th>366</th>\n",
       "      <td>65.0</td>\n",
       "      <td>0.454493</td>\n",
       "      <td>-1.492512</td>\n",
       "      <td>-1.976301</td>\n",
       "      <td>-1.616504</td>\n",
       "      <td>Apartment</td>\n",
       "      <td>-0.59027</td>\n",
       "      <td>moderate</td>\n",
       "    </tr>\n",
       "    <tr>\n",
       "      <th>367</th>\n",
       "      <td>65.0</td>\n",
       "      <td>0.454493</td>\n",
       "      <td>1.501782</td>\n",
       "      <td>-1.976301</td>\n",
       "      <td>-1.616504</td>\n",
       "      <td>Apartment</td>\n",
       "      <td>-0.59027</td>\n",
       "      <td>moderate</td>\n",
       "    </tr>\n",
       "    <tr>\n",
       "      <th>368</th>\n",
       "      <td>75.0</td>\n",
       "      <td>0.454493</td>\n",
       "      <td>1.002733</td>\n",
       "      <td>-1.976301</td>\n",
       "      <td>-1.616504</td>\n",
       "      <td>Apartment</td>\n",
       "      <td>-0.59027</td>\n",
       "      <td>moderate</td>\n",
       "    </tr>\n",
       "    <tr>\n",
       "      <th>369</th>\n",
       "      <td>75.0</td>\n",
       "      <td>0.454493</td>\n",
       "      <td>0.503684</td>\n",
       "      <td>-1.976301</td>\n",
       "      <td>-1.616504</td>\n",
       "      <td>Apartment</td>\n",
       "      <td>-0.59027</td>\n",
       "      <td>moderate</td>\n",
       "    </tr>\n",
       "  </tbody>\n",
       "</table>\n",
       "</div>"
      ],
      "text/plain": [
       "     price     month  week_day  latitude  longitude property_type  \\\n",
       "365   65.0  0.454493 -0.993463 -1.976301  -1.616504     Apartment   \n",
       "366   65.0  0.454493 -1.492512 -1.976301  -1.616504     Apartment   \n",
       "367   65.0  0.454493  1.501782 -1.976301  -1.616504     Apartment   \n",
       "368   75.0  0.454493  1.002733 -1.976301  -1.616504     Apartment   \n",
       "369   75.0  0.454493  0.503684 -1.976301  -1.616504     Apartment   \n",
       "\n",
       "     accommodates cancellation_policy  \n",
       "365      -0.59027            moderate  \n",
       "366      -0.59027            moderate  \n",
       "367      -0.59027            moderate  \n",
       "368      -0.59027            moderate  \n",
       "369      -0.59027            moderate  "
      ]
     },
     "execution_count": 20,
     "metadata": {},
     "output_type": "execute_result"
    }
   ],
   "source": [
    "df_model.head()"
   ]
  },
  {
   "cell_type": "code",
   "execution_count": 21,
   "metadata": {},
   "outputs": [],
   "source": [
    "# remove categorical variables \n",
    "\n",
    "df_model = df_model.drop(['property_type','cancellation_policy'],axis=1)\n",
    "\n",
    "# add dummy categorical variables\n",
    "\n",
    "df_knn = pd.concat([df_dummy, df_model], axis=1)\n"
   ]
  },
  {
   "cell_type": "code",
   "execution_count": 22,
   "metadata": {},
   "outputs": [
    {
     "name": "stdout",
     "output_type": "stream",
     "text": [
      "<class 'pandas.core.frame.DataFrame'>\n",
      "Int64Index: 642889 entries, 365 to 1308879\n",
      "Data columns (total 23 columns):\n",
      " #   Column                               Non-Null Count   Dtype  \n",
      "---  ------                               --------------   -----  \n",
      " 0   cancellation_policy_flexible         642889 non-null  uint8  \n",
      " 1   cancellation_policy_moderate         642889 non-null  uint8  \n",
      " 2   cancellation_policy_strict           642889 non-null  uint8  \n",
      " 3   cancellation_policy_super_strict_30  642889 non-null  uint8  \n",
      " 4   property_type_Apartment              642889 non-null  uint8  \n",
      " 5   property_type_Bed & Breakfast        642889 non-null  uint8  \n",
      " 6   property_type_Boat                   642889 non-null  uint8  \n",
      " 7   property_type_Camper/RV              642889 non-null  uint8  \n",
      " 8   property_type_Condominium            642889 non-null  uint8  \n",
      " 9   property_type_Dorm                   642889 non-null  uint8  \n",
      " 10  property_type_Entire Floor           642889 non-null  uint8  \n",
      " 11  property_type_Guesthouse             642889 non-null  uint8  \n",
      " 12  property_type_House                  642889 non-null  uint8  \n",
      " 13  property_type_Loft                   642889 non-null  uint8  \n",
      " 14  property_type_Other                  642889 non-null  uint8  \n",
      " 15  property_type_Townhouse              642889 non-null  uint8  \n",
      " 16  property_type_Villa                  642889 non-null  uint8  \n",
      " 17  price                                642889 non-null  float64\n",
      " 18  month                                642889 non-null  float64\n",
      " 19  week_day                             642889 non-null  float64\n",
      " 20  latitude                             642889 non-null  float64\n",
      " 21  longitude                            642889 non-null  float64\n",
      " 22  accommodates                         642889 non-null  float64\n",
      "dtypes: float64(6), uint8(17)\n",
      "memory usage: 44.8 MB\n"
     ]
    }
   ],
   "source": [
    "df_knn.info()"
   ]
  },
  {
   "cell_type": "code",
   "execution_count": 23,
   "metadata": {},
   "outputs": [],
   "source": [
    "# split dataset for cross validation, 20% for testing and 80% for training\n",
    "\n",
    "Y = df_knn['price']\n",
    "X = df_knn.drop('price', axis=1)\n",
    "\n",
    "X_train, X_test, Y_train, Y_test = train_test_split(X, Y, test_size=0.20, random_state=42)"
   ]
  },
  {
   "cell_type": "markdown",
   "metadata": {},
   "source": [
    "###### MODEL TRAINING USING K-NEAREST NEIGBOURS REGRESSSION\n",
    " "
   ]
  },
  {
   "cell_type": "markdown",
   "metadata": {},
   "source": [
    "The below elbow method can be used to determine the optimum number of neighbours, however given the huge volumn, \n",
    "it takes forever to complete, so I skipped this step and experimented with n-neigbour = 3, 5, 7\n",
    "\n",
    "from sklearn.cluster import KMeans\n",
    "score = []\n",
    "range_value = range(1,20)\n",
    "for i in range_value:\n",
    "    kmeans = KMeans(n_clusters = i)\n",
    "    kmeans.fit(X_train)\n",
    "    score.append(kmeans.inertia_) "
   ]
  },
  {
   "cell_type": "code",
   "execution_count": 25,
   "metadata": {},
   "outputs": [],
   "source": [
    "# train the model, after experiment with different values, n_neibhours = 3 give the most accurate prediction\n",
    "\n",
    "clf = KNeighborsRegressor(n_neighbors=3)\n",
    "\n",
    "clf.fit(X_train, Y_train)\n",
    "\n",
    "knr_Y_pred = clf.predict(X_test)"
   ]
  },
  {
   "cell_type": "markdown",
   "metadata": {},
   "source": [
    "###### K-NEAREST NEIGBOURS REGRESSION MODEL EVALUATION"
   ]
  },
  {
   "cell_type": "code",
   "execution_count": 26,
   "metadata": {},
   "outputs": [],
   "source": [
    "# incorporate predicted price to test dataset\n",
    "\n",
    "predictions = pd.Series(data=knr_Y_pred, index=X_test.index, name='predicted_price')\n",
    "knr_result =X_test.join(predictions, how='left')\n",
    "knr_result = knr_result.join(Y_test, how='left')"
   ]
  },
  {
   "cell_type": "code",
   "execution_count": 27,
   "metadata": {},
   "outputs": [
    {
     "data": {
      "text/html": [
       "<div>\n",
       "<style scoped>\n",
       "    .dataframe tbody tr th:only-of-type {\n",
       "        vertical-align: middle;\n",
       "    }\n",
       "\n",
       "    .dataframe tbody tr th {\n",
       "        vertical-align: top;\n",
       "    }\n",
       "\n",
       "    .dataframe thead th {\n",
       "        text-align: right;\n",
       "    }\n",
       "</style>\n",
       "<table border=\"1\" class=\"dataframe\">\n",
       "  <thead>\n",
       "    <tr style=\"text-align: right;\">\n",
       "      <th></th>\n",
       "      <th>cancellation_policy_flexible</th>\n",
       "      <th>cancellation_policy_moderate</th>\n",
       "      <th>cancellation_policy_strict</th>\n",
       "      <th>cancellation_policy_super_strict_30</th>\n",
       "      <th>property_type_Apartment</th>\n",
       "      <th>property_type_Bed &amp; Breakfast</th>\n",
       "      <th>property_type_Boat</th>\n",
       "      <th>property_type_Camper/RV</th>\n",
       "      <th>property_type_Condominium</th>\n",
       "      <th>property_type_Dorm</th>\n",
       "      <th>...</th>\n",
       "      <th>property_type_Other</th>\n",
       "      <th>property_type_Townhouse</th>\n",
       "      <th>property_type_Villa</th>\n",
       "      <th>month</th>\n",
       "      <th>week_day</th>\n",
       "      <th>latitude</th>\n",
       "      <th>longitude</th>\n",
       "      <th>accommodates</th>\n",
       "      <th>predicted_price</th>\n",
       "      <th>price</th>\n",
       "    </tr>\n",
       "  </thead>\n",
       "  <tbody>\n",
       "    <tr>\n",
       "      <th>1242575</th>\n",
       "      <td>0</td>\n",
       "      <td>1</td>\n",
       "      <td>0</td>\n",
       "      <td>0</td>\n",
       "      <td>1</td>\n",
       "      <td>0</td>\n",
       "      <td>0</td>\n",
       "      <td>0</td>\n",
       "      <td>0</td>\n",
       "      <td>0</td>\n",
       "      <td>...</td>\n",
       "      <td>0</td>\n",
       "      <td>0</td>\n",
       "      <td>0</td>\n",
       "      <td>-0.388940</td>\n",
       "      <td>-0.993463</td>\n",
       "      <td>0.479807</td>\n",
       "      <td>-1.351538</td>\n",
       "      <td>-0.590270</td>\n",
       "      <td>125.0</td>\n",
       "      <td>125.0</td>\n",
       "    </tr>\n",
       "    <tr>\n",
       "      <th>452370</th>\n",
       "      <td>0</td>\n",
       "      <td>0</td>\n",
       "      <td>0</td>\n",
       "      <td>1</td>\n",
       "      <td>1</td>\n",
       "      <td>0</td>\n",
       "      <td>0</td>\n",
       "      <td>0</td>\n",
       "      <td>0</td>\n",
       "      <td>0</td>\n",
       "      <td>...</td>\n",
       "      <td>0</td>\n",
       "      <td>0</td>\n",
       "      <td>0</td>\n",
       "      <td>-1.232374</td>\n",
       "      <td>1.002733</td>\n",
       "      <td>0.272453</td>\n",
       "      <td>0.091279</td>\n",
       "      <td>0.462095</td>\n",
       "      <td>379.0</td>\n",
       "      <td>379.0</td>\n",
       "    </tr>\n",
       "    <tr>\n",
       "      <th>39718</th>\n",
       "      <td>0</td>\n",
       "      <td>1</td>\n",
       "      <td>0</td>\n",
       "      <td>0</td>\n",
       "      <td>1</td>\n",
       "      <td>0</td>\n",
       "      <td>0</td>\n",
       "      <td>0</td>\n",
       "      <td>0</td>\n",
       "      <td>0</td>\n",
       "      <td>...</td>\n",
       "      <td>0</td>\n",
       "      <td>0</td>\n",
       "      <td>0</td>\n",
       "      <td>1.297926</td>\n",
       "      <td>0.503684</td>\n",
       "      <td>-1.006529</td>\n",
       "      <td>-0.558097</td>\n",
       "      <td>-0.590270</td>\n",
       "      <td>83.0</td>\n",
       "      <td>87.0</td>\n",
       "    </tr>\n",
       "    <tr>\n",
       "      <th>785</th>\n",
       "      <td>0</td>\n",
       "      <td>1</td>\n",
       "      <td>0</td>\n",
       "      <td>0</td>\n",
       "      <td>1</td>\n",
       "      <td>0</td>\n",
       "      <td>0</td>\n",
       "      <td>0</td>\n",
       "      <td>0</td>\n",
       "      <td>0</td>\n",
       "      <td>...</td>\n",
       "      <td>0</td>\n",
       "      <td>0</td>\n",
       "      <td>0</td>\n",
       "      <td>-0.951229</td>\n",
       "      <td>1.002733</td>\n",
       "      <td>-1.740189</td>\n",
       "      <td>-1.660845</td>\n",
       "      <td>-0.590270</td>\n",
       "      <td>65.0</td>\n",
       "      <td>65.0</td>\n",
       "    </tr>\n",
       "    <tr>\n",
       "      <th>718762</th>\n",
       "      <td>1</td>\n",
       "      <td>0</td>\n",
       "      <td>0</td>\n",
       "      <td>0</td>\n",
       "      <td>1</td>\n",
       "      <td>0</td>\n",
       "      <td>0</td>\n",
       "      <td>0</td>\n",
       "      <td>0</td>\n",
       "      <td>0</td>\n",
       "      <td>...</td>\n",
       "      <td>0</td>\n",
       "      <td>0</td>\n",
       "      <td>0</td>\n",
       "      <td>-0.388940</td>\n",
       "      <td>-0.993463</td>\n",
       "      <td>0.843925</td>\n",
       "      <td>0.535523</td>\n",
       "      <td>-0.590270</td>\n",
       "      <td>499.0</td>\n",
       "      <td>499.0</td>\n",
       "    </tr>\n",
       "  </tbody>\n",
       "</table>\n",
       "<p>5 rows × 24 columns</p>\n",
       "</div>"
      ],
      "text/plain": [
       "         cancellation_policy_flexible  cancellation_policy_moderate  \\\n",
       "1242575                             0                             1   \n",
       "452370                              0                             0   \n",
       "39718                               0                             1   \n",
       "785                                 0                             1   \n",
       "718762                              1                             0   \n",
       "\n",
       "         cancellation_policy_strict  cancellation_policy_super_strict_30  \\\n",
       "1242575                           0                                    0   \n",
       "452370                            0                                    1   \n",
       "39718                             0                                    0   \n",
       "785                               0                                    0   \n",
       "718762                            0                                    0   \n",
       "\n",
       "         property_type_Apartment  property_type_Bed & Breakfast  \\\n",
       "1242575                        1                              0   \n",
       "452370                         1                              0   \n",
       "39718                          1                              0   \n",
       "785                            1                              0   \n",
       "718762                         1                              0   \n",
       "\n",
       "         property_type_Boat  property_type_Camper/RV  \\\n",
       "1242575                   0                        0   \n",
       "452370                    0                        0   \n",
       "39718                     0                        0   \n",
       "785                       0                        0   \n",
       "718762                    0                        0   \n",
       "\n",
       "         property_type_Condominium  property_type_Dorm  ...  \\\n",
       "1242575                          0                   0  ...   \n",
       "452370                           0                   0  ...   \n",
       "39718                            0                   0  ...   \n",
       "785                              0                   0  ...   \n",
       "718762                           0                   0  ...   \n",
       "\n",
       "         property_type_Other  property_type_Townhouse  property_type_Villa  \\\n",
       "1242575                    0                        0                    0   \n",
       "452370                     0                        0                    0   \n",
       "39718                      0                        0                    0   \n",
       "785                        0                        0                    0   \n",
       "718762                     0                        0                    0   \n",
       "\n",
       "            month  week_day  latitude  longitude  accommodates  \\\n",
       "1242575 -0.388940 -0.993463  0.479807  -1.351538     -0.590270   \n",
       "452370  -1.232374  1.002733  0.272453   0.091279      0.462095   \n",
       "39718    1.297926  0.503684 -1.006529  -0.558097     -0.590270   \n",
       "785     -0.951229  1.002733 -1.740189  -1.660845     -0.590270   \n",
       "718762  -0.388940 -0.993463  0.843925   0.535523     -0.590270   \n",
       "\n",
       "         predicted_price  price  \n",
       "1242575            125.0  125.0  \n",
       "452370             379.0  379.0  \n",
       "39718               83.0   87.0  \n",
       "785                 65.0   65.0  \n",
       "718762             499.0  499.0  \n",
       "\n",
       "[5 rows x 24 columns]"
      ]
     },
     "execution_count": 27,
     "metadata": {},
     "output_type": "execute_result"
    }
   ],
   "source": [
    "knr_result.head()"
   ]
  },
  {
   "cell_type": "code",
   "execution_count": 28,
   "metadata": {},
   "outputs": [
    {
     "name": "stdout",
     "output_type": "stream",
     "text": [
      "Pearsons correlation: 0.949\n",
      "R2-score:  0.9014342419662776\n"
     ]
    }
   ],
   "source": [
    "## compute Pearson and R2_score\n",
    "\n",
    "corr, _ = pearsonr(Y_test, knr_Y_pred)\n",
    "print('Pearsons correlation: %.3f' % corr)\n",
    "print ('R2-score: ', r2_score(Y_test, knr_Y_pred))\n",
    "\n",
    "# the Pearsons correlation of 0.9349 shows a strong relationship between actual and predicted price \n",
    "# the R2-score shows 90.14% of the variation in price can be explained by the independent (x) variables"
   ]
  },
  {
   "cell_type": "code",
   "execution_count": 29,
   "metadata": {},
   "outputs": [
    {
     "data": {
      "text/plain": [
       "Text(0, 0.5, 'Predicted')"
      ]
     },
     "execution_count": 29,
     "metadata": {},
     "output_type": "execute_result"
    },
    {
     "data": {
      "image/png": "[encoded data removed]",
      "text/plain": [
       "<Figure size 864x576 with 1 Axes>"
      ]
     },
     "metadata": {},
     "output_type": "display_data"
    }
   ],
   "source": [
    "# model validation using sklearn cross_val_predict\n",
    "\n",
    "lr = linear_model.LinearRegression()\n",
    "y = knr_result.price\n",
    "\n",
    "# cross_val_predict returns an array of the same size as `y` where each entry\n",
    "# is a prediction obtained by cross validation:\n",
    "predicted = cross_val_predict(lr, knr_result, y, cv=20)\n",
    "\n",
    "fig, ax = plt.subplots(figsize=(12, 8))\n",
    "ax.scatter(y, predicted)\n",
    "ax.plot([y.min(), y.max()], [y.min(), y.max()], 'k--', lw=1)\n",
    "ax.set_xlabel('Actual')\n",
    "ax.set_ylabel('Predicted')\n"
   ]
  },
  {
   "cell_type": "markdown",
   "metadata": {},
   "source": [
    "###### MODEL TRAINING USING RANDOM FOREST REGRESSSION\n",
    " "
   ]
  },
  {
   "cell_type": "code",
   "execution_count": 30,
   "metadata": {},
   "outputs": [
    {
     "name": "stderr",
     "output_type": "stream",
     "text": [
      "[Parallel(n_jobs=1)]: Using backend SequentialBackend with 1 concurrent workers.\n",
      "[Parallel(n_jobs=1)]: Done 100 out of 100 | elapsed:  1.5min finished\n",
      "[Parallel(n_jobs=1)]: Using backend SequentialBackend with 1 concurrent workers.\n",
      "[Parallel(n_jobs=1)]: Done 100 out of 100 | elapsed:    0.9s finished\n"
     ]
    }
   ],
   "source": [
    "# build and train the model\n",
    "\n",
    "rfg = RandomForestRegressor(n_estimators=100,random_state=42,\n",
    "    max_depth=10,\n",
    "    min_samples_leaf=15,\n",
    "    verbose=1)\n",
    "\n",
    "rfg.fit(X_train, Y_train)\n",
    "rfg_Y_pred  = rfg.predict(X_test)"
   ]
  },
  {
   "cell_type": "markdown",
   "metadata": {},
   "source": [
    "###### RANDOM FOREST REGRESSION MODEL EVALUATION"
   ]
  },
  {
   "cell_type": "code",
   "execution_count": 31,
   "metadata": {},
   "outputs": [],
   "source": [
    "# incorporate predicted price to test dataset\n",
    "\n",
    "predictions = pd.Series(data=rfg_Y_pred, index=X_test.index, name='predicted_price')\n",
    "rfg_result =X_test.join(predictions, how='left')\n",
    "rfg_result = rfg_result.join(Y_test, how='left')"
   ]
  },
  {
   "cell_type": "code",
   "execution_count": 32,
   "metadata": {},
   "outputs": [
    {
     "name": "stdout",
     "output_type": "stream",
     "text": [
      "Pearson correlation: 0.886386773085179\n",
      "R-score:  0.7855397723940385\n"
     ]
    }
   ],
   "source": [
    "# compute Pearson and R2_score\n",
    "\n",
    "rfg_cor =  rfg_result[['predicted_price', 'price']].corr()\n",
    "print ('Pearson correlation: %s' % rfg_cor['predicted_price'][1])\n",
    "print ('R-score: ', r2_score(Y_test, rfg_Y_pred))\n",
    "\n",
    "# the Pearsons correlation of 0.886 shows a strong relationship between actual and predicted price \n",
    "# the R2-score shows 78.5% of the variation in price can be explained by the independent (x) variables"
   ]
  },
  {
   "cell_type": "code",
   "execution_count": 33,
   "metadata": {
    "scrolled": true
   },
   "outputs": [
    {
     "data": {
      "image/png": "[encoded data removed]",
      "text/plain": [
       "<Figure size 432x288 with 1 Axes>"
      ]
     },
     "metadata": {},
     "output_type": "display_data"
    }
   ],
   "source": [
    "# display top 10 important features \n",
    "feature_importances = {}\n",
    "features = X_train.columns\n",
    "for feature_name, feature_importance in zip(features, rfg.feature_importances_):\n",
    "    feature_importances[feature_name] = feature_importance\n",
    "feature_importances_df = pd.DataFrame.from_dict(feature_importances,orient='index')\n",
    "feature_importances_df = feature_importances_df.nlargest(10,0)\n",
    "\n",
    "ax = sns.barplot(x=feature_importances_df[0], y=feature_importances_df.index, data=feature_importances_df)\n",
    "ax.set(xlabel=\"Scores\",title='Features of Importance')\n",
    "sns.set({'figure.figsize':(12,5)})"
   ]
  },
  {
   "cell_type": "markdown",
   "metadata": {},
   "source": [
    "SUMMARY:\n",
    "\n",
    "1) September has the highest bookings, following is October. Feb has the lowest bookings. \n",
    "2) Apartment is the most demanded renting property, following by house and then condominium\n",
    "3) Rental price is lowest in February and March, then gradually increases and reaches the peak in September and October.\n",
    "4) Friday and Saturday prices, in general are more expensive than other days of the week\n",
    "5) KNN Regression model is slightly more accurate in predicting prices, but Random Forest Regression provides important features had the most impact on determining the rental prices. \n"
   ]
  },
  {
   "cell_type": "code",
   "execution_count": null,
   "metadata": {},
   "outputs": [],
   "source": []
  }
 ],
 "metadata": {
  "kernelspec": {
   "display_name": "Python 3",
   "language": "python",
   "name": "python3"
  },
  "language_info": {
   "codemirror_mode": {
    "name": "ipython",
    "version": 3
   },
   "file_extension": ".py",
   "mimetype": "text/x-python",
   "name": "python",
   "nbconvert_exporter": "python",
   "pygments_lexer": "ipython3",
   "version": "3.8.3"
  }
 },
 "nbformat": 4,
 "nbformat_minor": 4
}
